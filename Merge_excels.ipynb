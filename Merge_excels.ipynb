{
 "cells": [
  {
   "cell_type": "code",
   "execution_count": 1,
   "id": "c581e926",
   "metadata": {},
   "outputs": [
    {
     "name": "stdout",
     "output_type": "stream",
     "text": [
      "Merge complete. Merged data saved to C:\\Users\\Default\\Documents\\123\\merged_data.xlsx\n"
     ]
    }
   ],
   "source": [
    "# Merge different excel files into one\n",
    "\n",
    "import pandas as pd\n",
    "import os\n",
    "\n",
    "# set the directory where the Excel files are located\n",
    "directory = \"C:\\\\Users\\\\Default\\\\Documents\\\\123\" # change this path name if needed\n",
    "# initialize an empty DataFrame to store the merged data\n",
    "merged_data = pd.DataFrame()\n",
    "\n",
    "# iterate over each file in the directory\n",
    "for filename in os.listdir(directory):\n",
    "    if filename.endswith(\".xlsx\") or filename.endswith(\".xls\"):\n",
    "        # read the Excel file into a DataFrame\n",
    "        file_path = os.path.join(directory, filename)\n",
    "        df = pd.read_excel(file_path)\n",
    "        \n",
    "        # merge the columns apart from the first column with the existing merged data\n",
    "        merged_data = pd.concat([merged_data, df.iloc[:, 0:]], axis=1)\n",
    "\n",
    "# write the merged data to a new Excel file\n",
    "merged_file_path = \"C:\\\\Users\\\\Default\\\\Documents\\\\123\\\\merged_data.xlsx\" # change this path name if needed\n",
    "merged_data.to_excel(merged_file_path, index=False)\n",
    "\n",
    "print(\"Merge complete. Merged data saved to\", merged_file_path)"
   ]
  },
  {
   "cell_type": "code",
   "execution_count": null,
   "id": "189a17ba",
   "metadata": {},
   "outputs": [],
   "source": []
  }
 ],
 "metadata": {
  "kernelspec": {
   "display_name": "Python 3 (ipykernel)",
   "language": "python",
   "name": "python3"
  },
  "language_info": {
   "codemirror_mode": {
    "name": "ipython",
    "version": 3
   },
   "file_extension": ".py",
   "mimetype": "text/x-python",
   "name": "python",
   "nbconvert_exporter": "python",
   "pygments_lexer": "ipython3",
   "version": "3.10.9"
  }
 },
 "nbformat": 4,
 "nbformat_minor": 5
}
